{
 "cells": [
  {
   "cell_type": "code",
   "execution_count": 133,
   "id": "bf17bc4c",
   "metadata": {},
   "outputs": [],
   "source": [
    "import pickle\n",
    "import numpy as np\n",
    "import math\n",
    "import tensorflow as tf\n",
    "import tensorflow.keras as keras\n",
    "from tensorflow.keras.models import Sequential\n",
    "from tensorflow.keras.layers import Dense, Dropout, Flatten, Conv2D, MaxPooling2D\n",
    "from tensorflow.keras import backend as K\n",
    "from sklearn.model_selection import train_test_split"
   ]
  },
  {
   "cell_type": "markdown",
   "id": "74a23f75",
   "metadata": {},
   "source": [
    "__Load Data__"
   ]
  },
  {
   "cell_type": "code",
   "execution_count": 79,
   "id": "2c3782e8",
   "metadata": {},
   "outputs": [
    {
     "data": {
      "text/plain": [
       "dict"
      ]
     },
     "execution_count": 79,
     "metadata": {},
     "output_type": "execute_result"
    }
   ],
   "source": [
    "with open('train.p', 'rb') as f:\n",
    "    data = pickle.load(f)\n",
    "type(data)"
   ]
  },
  {
   "cell_type": "code",
   "execution_count": 80,
   "id": "9792412e",
   "metadata": {},
   "outputs": [
    {
     "name": "stdout",
     "output_type": "stream",
     "text": [
      "dict_keys(['features', 'labels'])\n"
     ]
    }
   ],
   "source": [
    "print(data.keys())"
   ]
  },
  {
   "cell_type": "code",
   "execution_count": 114,
   "id": "34c8c838",
   "metadata": {},
   "outputs": [
    {
     "name": "stdout",
     "output_type": "stream",
     "text": [
      "(39209, 32, 32, 3)\n",
      "(39209,)\n",
      "42\n"
     ]
    },
    {
     "data": {
      "text/plain": [
       "numpy.ndarray"
      ]
     },
     "execution_count": 114,
     "metadata": {},
     "output_type": "execute_result"
    }
   ],
   "source": [
    "# Load the feature data to the variable X_train\n",
    "x_data = data['features']\n",
    "# Load the label data to the variable y_train\n",
    "y_data = data['labels']\n",
    "\n",
    "print(x_data.shape)\n",
    "print(y_data.shape)\n",
    "print(y_data[-1])\n",
    "type(x_data)"
   ]
  },
  {
   "cell_type": "code",
   "execution_count": 115,
   "id": "05b42400",
   "metadata": {},
   "outputs": [
    {
     "data": {
      "text/plain": [
       "(32, 32, 3)"
      ]
     },
     "execution_count": 115,
     "metadata": {},
     "output_type": "execute_result"
    }
   ],
   "source": [
    "x_data[0].shape"
   ]
  },
  {
   "cell_type": "code",
   "execution_count": 116,
   "id": "95f44aba",
   "metadata": {},
   "outputs": [],
   "source": [
    "with open('test.p', 'rb') as f:\n",
    "    test = pickle.load(f)"
   ]
  },
  {
   "cell_type": "code",
   "execution_count": 117,
   "id": "5dfc9d0a",
   "metadata": {},
   "outputs": [],
   "source": [
    "x_test = test['features']\n",
    "y_test = test['labels']"
   ]
  },
  {
   "cell_type": "code",
   "execution_count": 118,
   "id": "516e7f3f",
   "metadata": {},
   "outputs": [],
   "source": [
    "import matplotlib.pyplot as plt"
   ]
  },
  {
   "cell_type": "code",
   "execution_count": 119,
   "id": "91dc6b8c",
   "metadata": {},
   "outputs": [
    {
     "data": {
      "text/plain": [
       "<matplotlib.image.AxesImage at 0x1e4f32405b0>"
      ]
     },
     "execution_count": 119,
     "metadata": {},
     "output_type": "execute_result"
    },
    {
     "data": {
      "image/png": "[encoded data removed]",
      "text/plain": [
       "<Figure size 432x288 with 1 Axes>"
      ]
     },
     "metadata": {
      "needs_background": "light"
     },
     "output_type": "display_data"
    }
   ],
   "source": [
    "plt.imshow(x_data[0])"
   ]
  },
  {
   "cell_type": "code",
   "execution_count": 120,
   "id": "d5a7f25d",
   "metadata": {},
   "outputs": [
    {
     "data": {
      "text/plain": [
       "dtype('uint8')"
      ]
     },
     "execution_count": 120,
     "metadata": {},
     "output_type": "execute_result"
    }
   ],
   "source": [
    "x_data.dtype"
   ]
  },
  {
   "cell_type": "code",
   "execution_count": 121,
   "id": "6a800c86",
   "metadata": {},
   "outputs": [
    {
     "data": {
      "text/plain": [
       "array([ 0,  1,  2,  3,  4,  5,  6,  7,  8,  9, 10, 11, 12, 13, 14, 15, 16,\n",
       "       17, 18, 19, 20, 21, 22, 23, 24, 25, 26, 27, 28, 29, 30, 31, 32, 33,\n",
       "       34, 35, 36, 37, 38, 39, 40, 41, 42], dtype=uint8)"
      ]
     },
     "execution_count": 121,
     "metadata": {},
     "output_type": "execute_result"
    }
   ],
   "source": [
    "np.unique(y_data)"
   ]
  },
  {
   "cell_type": "markdown",
   "id": "c6c296ec",
   "metadata": {},
   "source": [
    "__Data Preparation__\n",
    "\n",
    "__1. Reshaping data__\n",
    "\n",
    "y_train contains 43 distinct classes. Shape needs to be (39209, 43). Each image's label is represented as a 43-d **One-hot encoded vector**.\n",
    "\n",
    "__2.Rescaling(Normalisation)__\n",
    "The value of each pixel is between 0-255, so we will **rescale each pixel** by dividing by 255 so that the range becomes 0-1.\n",
    "\n",
    "__3.Converting Input Data Type: Int to Float__\n",
    "The pixels are originally stored as type 'int', converting it to float. "
   ]
  },
  {
   "cell_type": "code",
   "execution_count": 122,
   "id": "28e0e8bc",
   "metadata": {},
   "outputs": [
    {
     "data": {
      "text/plain": [
       "(39209, 43)"
      ]
     },
     "execution_count": 122,
     "metadata": {},
     "output_type": "execute_result"
    }
   ],
   "source": [
    "# convert class labels (from digits) to one-hot encoded vectors\n",
    "y_data = keras.utils.to_categorical(y_data, 43)\n",
    "y_data.shape"
   ]
  },
  {
   "cell_type": "code",
   "execution_count": 124,
   "id": "ea78a5fc",
   "metadata": {},
   "outputs": [
    {
     "data": {
      "text/plain": [
       "array([1., 0., 0., 0., 0., 0., 0., 0., 0., 0., 0., 0., 0., 0., 0., 0., 0.,\n",
       "       0., 0., 0., 0., 0., 0., 0., 0., 0., 0., 0., 0., 0., 0., 0., 0., 0.,\n",
       "       0., 0., 0., 0., 0., 0., 0., 0., 0.], dtype=float32)"
      ]
     },
     "execution_count": 124,
     "metadata": {},
     "output_type": "execute_result"
    }
   ],
   "source": [
    "y_data[0]"
   ]
  },
  {
   "cell_type": "code",
   "execution_count": 125,
   "id": "dcc1efb8",
   "metadata": {},
   "outputs": [],
   "source": [
    "y_test = keras.utils.to_categorical(y_test, 43)"
   ]
  },
  {
   "cell_type": "code",
   "execution_count": 131,
   "id": "772e935b",
   "metadata": {},
   "outputs": [],
   "source": [
    "# convert int to float\n",
    "x_data = x_data.astype('float32')\n",
    "x_test = x_test.astype('float32')\n",
    "\n",
    "# normalise\n",
    "x_data /= 255\n",
    "x_test /= 255"
   ]
  },
  {
   "cell_type": "markdown",
   "id": "108b2d89",
   "metadata": {},
   "source": [
    "__Building Model__"
   ]
  },
  {
   "cell_type": "code",
   "execution_count": 132,
   "id": "ec0f4c46",
   "metadata": {},
   "outputs": [
    {
     "name": "stdout",
     "output_type": "stream",
     "text": [
      "Model: \"sequential_1\"\n",
      "_________________________________________________________________\n",
      "Layer (type)                 Output Shape              Param #   \n",
      "=================================================================\n",
      "conv2d_2 (Conv2D)            (None, 30, 30, 32)        896       \n",
      "_________________________________________________________________\n",
      "conv2d_3 (Conv2D)            (None, 28, 28, 64)        18496     \n",
      "_________________________________________________________________\n",
      "max_pooling2d_1 (MaxPooling2 (None, 14, 14, 64)        0         \n",
      "_________________________________________________________________\n",
      "dropout_2 (Dropout)          (None, 14, 14, 64)        0         \n",
      "_________________________________________________________________\n",
      "flatten_1 (Flatten)          (None, 12544)             0         \n",
      "_________________________________________________________________\n",
      "dense_2 (Dense)              (None, 128)               1605760   \n",
      "_________________________________________________________________\n",
      "dropout_3 (Dropout)          (None, 128)               0         \n",
      "_________________________________________________________________\n",
      "dense_3 (Dense)              (None, 43)                5547      \n",
      "=================================================================\n",
      "Total params: 1,630,699\n",
      "Trainable params: 1,630,699\n",
      "Non-trainable params: 0\n",
      "_________________________________________________________________\n"
     ]
    }
   ],
   "source": [
    "model = Sequential()\n",
    "\n",
    "model.add(Conv2D(32, kernel_size = (3, 3), activation = 'relu', input_shape = (32, 32, 3)))\n",
    "model.add(Conv2D(64, kernel_size = (3, 3), activation = 'relu'))\n",
    "model.add(MaxPooling2D(pool_size = (2, 2)))\n",
    "model.add(Dropout(0.25))\n",
    "\n",
    "model.add(Flatten())\n",
    "model.add(Dense(128, activation = 'relu'))\n",
    "model.add(Dropout(0.5))\n",
    "\n",
    "model.add(Dense(43, activation = 'softmax'))\n",
    "\n",
    "model.summary()"
   ]
  },
  {
   "cell_type": "markdown",
   "id": "43c6bf52",
   "metadata": {},
   "source": [
    "__Model Fitting and evaluation__"
   ]
  },
  {
   "cell_type": "code",
   "execution_count": 138,
   "id": "e50ab777",
   "metadata": {},
   "outputs": [],
   "source": [
    "x_train, x_validation, y_train, y_validation = train_test_split(x_data, y_data, test_size = 0.3)"
   ]
  },
  {
   "cell_type": "code",
   "execution_count": 141,
   "id": "2e82915f",
   "metadata": {},
   "outputs": [
    {
     "data": {
      "text/plain": [
       "((27446, 32, 32, 3), (27446, 43))"
      ]
     },
     "execution_count": 141,
     "metadata": {},
     "output_type": "execute_result"
    }
   ],
   "source": [
    "x_train.shape, y_train.shape"
   ]
  },
  {
   "cell_type": "code",
   "execution_count": 143,
   "id": "4fadfcce",
   "metadata": {},
   "outputs": [],
   "source": [
    "model.compile(loss = keras.losses.categorical_crossentropy,\\\n",
    "             optimizer = 'adam',\n",
    "             metrics = ['accuracy'])"
   ]
  },
  {
   "cell_type": "code",
   "execution_count": 144,
   "id": "c545b420",
   "metadata": {},
   "outputs": [
    {
     "name": "stdout",
     "output_type": "stream",
     "text": [
      "Epoch 1/12\n",
      "215/215 [==============================] - 44s 201ms/step - loss: 1.9911 - accuracy: 0.4690 - val_loss: 0.5505 - val_accuracy: 0.8801\n",
      "Epoch 2/12\n",
      "215/215 [==============================] - 49s 226ms/step - loss: 0.7446 - accuracy: 0.7744 - val_loss: 0.2554 - val_accuracy: 0.9458\n",
      "Epoch 3/12\n",
      "215/215 [==============================] - 51s 238ms/step - loss: 0.4996 - accuracy: 0.8469 - val_loss: 0.1601 - val_accuracy: 0.9670\n",
      "Epoch 4/12\n",
      "215/215 [==============================] - 48s 225ms/step - loss: 0.3867 - accuracy: 0.8787 - val_loss: 0.1163 - val_accuracy: 0.9748\n",
      "Epoch 5/12\n",
      "215/215 [==============================] - 47s 220ms/step - loss: 0.3212 - accuracy: 0.8978 - val_loss: 0.0910 - val_accuracy: 0.9795\n",
      "Epoch 6/12\n",
      "215/215 [==============================] - 47s 220ms/step - loss: 0.2654 - accuracy: 0.9167 - val_loss: 0.0770 - val_accuracy: 0.9829\n",
      "Epoch 7/12\n",
      "215/215 [==============================] - 47s 220ms/step - loss: 0.2393 - accuracy: 0.9225 - val_loss: 0.0664 - val_accuracy: 0.9855\n",
      "Epoch 8/12\n",
      "215/215 [==============================] - 48s 222ms/step - loss: 0.2196 - accuracy: 0.9291 - val_loss: 0.0555 - val_accuracy: 0.9892\n",
      "Epoch 9/12\n",
      "215/215 [==============================] - 48s 225ms/step - loss: 0.1919 - accuracy: 0.9381 - val_loss: 0.0520 - val_accuracy: 0.9885\n",
      "Epoch 10/12\n",
      "215/215 [==============================] - 48s 222ms/step - loss: 0.1774 - accuracy: 0.9394 - val_loss: 0.0471 - val_accuracy: 0.9897\n",
      "Epoch 11/12\n",
      "215/215 [==============================] - 49s 228ms/step - loss: 0.1662 - accuracy: 0.9444 - val_loss: 0.0497 - val_accuracy: 0.9878\n",
      "Epoch 12/12\n",
      "215/215 [==============================] - 48s 224ms/step - loss: 0.1492 - accuracy: 0.9512 - val_loss: 0.0438 - val_accuracy: 0.9906\n"
     ]
    },
    {
     "data": {
      "text/plain": [
       "<tensorflow.python.keras.callbacks.History at 0x1e480cb2970>"
      ]
     },
     "execution_count": 144,
     "metadata": {},
     "output_type": "execute_result"
    }
   ],
   "source": [
    "model.fit(x_train, y_train, batch_size = 128, epochs = 12, verbose = 1, validation_data = (x_validation, y_validation))"
   ]
  },
  {
   "cell_type": "code",
   "execution_count": 146,
   "id": "00f21861",
   "metadata": {},
   "outputs": [
    {
     "name": "stdout",
     "output_type": "stream",
     "text": [
      "395/395 [==============================] - 4s 10ms/step - loss: 0.1539 - accuracy: 0.9610\n"
     ]
    },
    {
     "data": {
      "text/plain": [
       "[0.15388108789920807, 0.9610451459884644]"
      ]
     },
     "execution_count": 146,
     "metadata": {},
     "output_type": "execute_result"
    }
   ],
   "source": [
    "model.evaluate(x_test, y_test)"
   ]
  },
  {
   "cell_type": "code",
   "execution_count": null,
   "id": "2f9189ca",
   "metadata": {},
   "outputs": [],
   "source": []
  }
 ],
 "metadata": {
  "kernelspec": {
   "display_name": "Python 3",
   "language": "python",
   "name": "python3"
  },
  "language_info": {
   "codemirror_mode": {
    "name": "ipython",
    "version": 3
   },
   "file_extension": ".py",
   "mimetype": "text/x-python",
   "name": "python",
   "nbconvert_exporter": "python",
   "pygments_lexer": "ipython3",
   "version": "3.8.8"
  }
 },
 "nbformat": 4,
 "nbformat_minor": 5
}
